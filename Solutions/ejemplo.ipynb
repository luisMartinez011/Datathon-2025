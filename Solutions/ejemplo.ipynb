{
 "cells": [
  {
   "cell_type": "markdown",
   "id": "b6264b3a",
   "metadata": {},
   "source": [
    "<h1>\n",
    "Accionable de Negocio\n",
    "</h1>\n",
    "\n",
    "<p>\n",
    "Nuestro enfoque sera para que las herramientas \n",
    "</p>"
   ]
  },
  {
   "cell_type": "markdown",
   "id": "8fa03abb",
   "metadata": {},
   "source": []
  },
  {
   "cell_type": "code",
   "execution_count": null,
   "id": "87f664d7",
   "metadata": {
    "vscode": {
     "languageId": "plaintext"
    }
   },
   "outputs": [],
   "source": []
  },
  {
   "cell_type": "markdown",
   "id": "bf66baa5",
   "metadata": {},
   "source": [
    "<h1>Tipo de Problema</h1>"
   ]
  },
  {
   "cell_type": "markdown",
   "id": "db25cc65",
   "metadata": {},
   "source": [
    "<h1>Un plan de accion</h1>"
   ]
  },
  {
   "cell_type": "markdown",
   "id": "c7145247",
   "metadata": {
    "vscode": {
     "languageId": "plaintext"
    }
   },
   "source": [
    "<h1>Visualizaciones con variables</h1>"
   ]
  },
  {
   "cell_type": "markdown",
   "id": "a77ab453",
   "metadata": {},
   "source": [
    "<h1></h1>"
   ]
  }
 ],
 "metadata": {
  "language_info": {
   "name": "python"
  }
 },
 "nbformat": 4,
 "nbformat_minor": 5
}
