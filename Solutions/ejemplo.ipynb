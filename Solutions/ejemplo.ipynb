{
 "cells": [
  {
   "cell_type": "markdown",
   "id": "b6264b3a",
   "metadata": {},
   "source": [
    "<h1>\n",
    "Accionable de Negocio\n",
    "</h1>\n",
    "\n",
    "<p>\n",
    "<b>Hey Banco</b> puede enviar notificaciones proactivas personalizadas a los clientes con predicciones de su próximo gasto recurrente, ofreciendo cashback si usan Hey Pay para pagarlo. La mayoria de las personas usan la tarjeta de credito que le de el mejor cashback, entre mas cashback de mas \n",
    "probable es que una persona se cambie a un banco diferente.\n",
    "</p>\n",
    "<p>\n",
    "Ejemplo: ☕ ¡Hey Daniel! El <b>26 de mayo</b> sueles gastar <b> $120 </b> en <b> Starbucks </b>. Si pagas esta vez con Hey, te damos <b>5% de cashback 🎉</b>\n",
    "</p>"
   ]
  },
  {
   "cell_type": "markdown",
   "id": "db25cc65",
   "metadata": {},
   "source": [
    "<h1>Un plan de accion</h1>"
   ]
  },
  {
   "cell_type": "markdown",
   "id": "a6042003",
   "metadata": {},
   "source": [
    "| Subproblema                        | Tipo de problema         | Modelo utilizado           |\n",
    "| ---------------------------------- | ------------------------ | -------------------------- |\n",
    "| Predecir próxima fecha             | Regresión                | XGBoostRegressor o Prophet |\n",
    "| Estimar monto                      | Regresión                | XGBoostRegressor           |\n",
    "| Predecir próximo comercio          | Clasificación multiclase | XGBoostClassifier          |\n"
   ]
  },
  {
   "cell_type": "markdown",
   "id": "c7145247",
   "metadata": {
    "vscode": {
     "languageId": "plaintext"
    }
   },
   "source": [
    "<h1>Visualizaciones con variables</h1>"
   ]
  },
  {
   "cell_type": "markdown",
   "id": "a77ab453",
   "metadata": {},
   "source": [
    "<h1></h1>"
   ]
  }
 ],
 "metadata": {
  "language_info": {
   "name": "python"
  }
 },
 "nbformat": 4,
 "nbformat_minor": 5
}
