{
 "cells": [
  {
   "cell_type": "markdown",
   "id": "b6264b3a",
   "metadata": {},
   "source": [
    "<h1>\n",
    "Accionable de Negocio\n",
    "</h1>\n",
    "\n",
    "<p>\n",
    "<b>Hey Banco</b> puede enviar notificaciones proactivas personalizadas a los clientes con predicciones de su próximo gasto recurrente, ofreciendo cashback si usan Hey Pay para pagarlo. La mayoria de las personas usan la tarjeta de credito que le de el mejor cashback, entre mas cashback de mas \n",
    "probable es que una persona se cambie a un banco diferente.\n",
    "</p>\n",
    "<p>\n",
    "Ejemplo: ☕ ¡Hey Daniel! El <b>26 de mayo</b> sueles gastar <b> $120 </b> en <b> Starbucks </b>. Si pagas esta vez con Hey, te damos <b>5% de cashback 🎉</b>\n",
    "</p>"
   ]
  },
  {
   "cell_type": "markdown",
   "id": "db25cc65",
   "metadata": {},
   "source": [
    "<h1>Un plan de accion</h1>"
   ]
  },
  {
   "cell_type": "markdown",
   "id": "5ef5ba31",
   "metadata": {},
   "source": [
    "<h1>Tipo de problema</h1>"
   ]
  },
  {
   "cell_type": "markdown",
   "id": "a6042003",
   "metadata": {},
   "source": [
    "| Subproblema                        | Tipo de problema         | Modelo utilizado           |\n",
    "| ---------------------------------- | ------------------------ | -------------------------- |\n",
    "| Estimar monto                      | Regresión                | XGBRegressor               |\n",
    "| Predecir próxima fecha             | Regresión                | XGBRegressor           |\n",
    "| La probabilidad de que un cliente haga una compra en los siguientes 30 dias                                   | Clasificacion                | XGBClassifier           |\n",
    "| Predecir próximo comercio          | Clasificación multiclase | (Se obtiene usando el comercio mas frecuente del cliente mediante  la moda)          |\n"
   ]
  },
  {
   "cell_type": "markdown",
   "id": "c7145247",
   "metadata": {
    "vscode": {
     "languageId": "plaintext"
    }
   },
   "source": [
    "<h1>Visualizaciones con variables</h1>"
   ]
  },
  {
   "cell_type": "markdown",
   "id": "a77ab453",
   "metadata": {},
   "source": [
    "<h1></h1>"
   ]
  },
  {
   "cell_type": "markdown",
   "id": "cd27b6a0",
   "metadata": {},
   "source": [
    "porcentaje de clientes con gastos recurrentes (3 dias)"
   ]
  },
  {
   "cell_type": "code",
   "execution_count": 6,
   "id": "6e91e18e",
   "metadata": {},
   "outputs": [
    {
     "name": "stderr",
     "output_type": "stream",
     "text": [
      "/tmp/ipykernel_16250/18178419.py:22: RuntimeWarning: invalid value encountered in scalar divide\n",
      "  if std / media < 0.2:  # coeficiente de variación bajo = patrón estable\n"
     ]
    },
    {
     "name": "stdout",
     "output_type": "stream",
     "text": [
      "📊 82.80% de los clientes tienen al menos un gasto recurrente\n"
     ]
    }
   ],
   "source": [
    "import pandas as pd\n",
    "import numpy as np\n",
    "\n",
    "# Cargar tus datos\n",
    "df = pd.read_csv(\"./Solutions/db_transactions.csv\", parse_dates=[\"fecha\"])\n",
    "\n",
    "# Agrupar por cliente y comercio\n",
    "grupo = df.groupby([\"id\", \"comercio\"])\n",
    "\n",
    "clientes_con_recurrentes = set()\n",
    "\n",
    "for (cliente, comercio), grupo_comercio in grupo:\n",
    "    fechas = grupo_comercio.sort_values(\"fecha\")[\"fecha\"].values\n",
    "\n",
    "    if len(fechas) < 3:\n",
    "        continue  # necesita mínimo 3 compras\n",
    "\n",
    "    intervalos = np.diff(fechas).astype('timedelta64[D]').astype(int)\n",
    "    media = np.mean(intervalos)\n",
    "    std = np.std(intervalos)\n",
    "\n",
    "    if std / media < 0.2:  # coeficiente de variación bajo = patrón estable\n",
    "        clientes_con_recurrentes.add(cliente)\n",
    "\n",
    "# Calcular porcentaje\n",
    "total_clientes = df[\"id\"].nunique()\n",
    "porcentaje = (len(clientes_con_recurrentes) / total_clientes) * 100\n",
    "\n",
    "print(f\"📊 {porcentaje:.2f}% de los clientes tienen al menos un gasto recurrente\")\n"
   ]
  }
 ],
 "metadata": {
  "kernelspec": {
   "display_name": "Python 3",
   "language": "python",
   "name": "python3"
  },
  "language_info": {
   "codemirror_mode": {
    "name": "ipython",
    "version": 3
   },
   "file_extension": ".py",
   "mimetype": "text/x-python",
   "name": "python",
   "nbconvert_exporter": "python",
   "pygments_lexer": "ipython3",
   "version": "3.10.6"
  }
 },
 "nbformat": 4,
 "nbformat_minor": 5
}
