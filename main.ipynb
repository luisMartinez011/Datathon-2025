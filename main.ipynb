{
 "cells": [
  {
   "cell_type": "code",
   "execution_count": null,
   "id": "174edc61",
   "metadata": {},
   "outputs": [],
   "source": [
    "import pandas as pd\n",
    "\n",
    "# Read the CSV file\n",
    "df = pd.read_csv('Docs/base_clientes_final.csv')\n",
    "\n",
    "# Check if all values in the 'id' column are unique\n",
    "is_unique = df['id'].is_unique\n",
    "\n",
    "print(f\"All 'id' values are unique: {is_unique}\")"
   ]
  }
 ],
 "metadata": {
  "language_info": {
   "name": "python"
  }
 },
 "nbformat": 4,
 "nbformat_minor": 5
}
