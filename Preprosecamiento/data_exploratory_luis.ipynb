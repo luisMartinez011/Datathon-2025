{
 "cells": [
  {
   "cell_type": "code",
   "execution_count": 2,
   "id": "e6c85d4c",
   "metadata": {},
   "outputs": [],
   "source": [
    "import pandas as pd\n",
    "\n",
    "\n",
    "# Read the CSV file\n",
    "clientes = pd.read_csv('../db/proccessed_db/db_clients.csv')\n",
    "transacciones = pd.read_csv('../db/proccessed_db/df_transactions.csv')\n",
    "# Check if all values in the 'id' column are unique"
   ]
  },
  {
   "cell_type": "code",
   "execution_count": 3,
   "id": "74d70dc5",
   "metadata": {},
   "outputs": [
    {
     "data": {
      "application/vnd.microsoft.datawrangler.viewer.v0+json": {
       "columns": [
        {
         "name": "index",
         "rawType": "int64",
         "type": "integer"
        },
        {
         "name": "id",
         "rawType": "object",
         "type": "string"
        },
        {
         "name": "fecha_nacimiento",
         "rawType": "object",
         "type": "string"
        },
        {
         "name": "fecha_alta",
         "rawType": "object",
         "type": "string"
        },
        {
         "name": "id_municipio",
         "rawType": "int64",
         "type": "integer"
        },
        {
         "name": "id_estado",
         "rawType": "int64",
         "type": "integer"
        },
        {
         "name": "tipo_persona",
         "rawType": "object",
         "type": "string"
        },
        {
         "name": "genero",
         "rawType": "object",
         "type": "string"
        },
        {
         "name": "actividad_empresarial",
         "rawType": "object",
         "type": "string"
        }
       ],
       "ref": "171cc90c-f52a-41b5-a91b-a5d2f46ad166",
       "rows": [
        [
         "0",
         "93512ea145c3d81ba7a7ff641faf992fd307072e",
         "1986-12-21",
         "2018-02-11",
         "6822014",
         "68",
         "Persona Fisica Con Actividad Empresarial",
         "F",
         "COMPRAVENTA DE ARTICULOS DE FERRETERIA"
        ],
        [
         "1",
         "acb2fee5aea2d73a88359d438aaedeea731554f8",
         "1991-02-01",
         "2019-05-12",
         "6115121",
         "61",
         "Persona Fisica Con Actividad Empresarial",
         "M",
         "AGENCIA DE PUBLICIDAD"
        ],
        [
         "2",
         "b627227d2f20116510bcb12de34e6a188cf8d054",
         "1994-05-23",
         "2017-07-19",
         "6923005",
         "69",
         "Persona Fisica Sin Actividad Empresarial",
         "F",
         "COMPRA VENTA DE ARTICULOS NO CLASIFICADOS EN OTRA PARTE"
        ],
        [
         "3",
         "054be5f40d50b28d2b82af57159343989dd28012",
         "1990-10-03",
         "2017-05-21",
         "6014120",
         "60",
         "Persona Fisica Sin Actividad Empresarial",
         "M",
         "EMPLEADO DEL SECTOR SERVICIOS"
        ],
        [
         "4",
         "e7a86bf5f62bcac9ca4c7003175e5366d759b284",
         "1962-05-19",
         "2017-05-16",
         "5408019",
         "54",
         "Persona Fisica Con Actividad Empresarial",
         "F",
         "EMPLEADO DEL SECTOR SERVICIOS"
        ]
       ],
       "shape": {
        "columns": 8,
        "rows": 5
       }
      },
      "text/html": [
       "<div>\n",
       "<style scoped>\n",
       "    .dataframe tbody tr th:only-of-type {\n",
       "        vertical-align: middle;\n",
       "    }\n",
       "\n",
       "    .dataframe tbody tr th {\n",
       "        vertical-align: top;\n",
       "    }\n",
       "\n",
       "    .dataframe thead th {\n",
       "        text-align: right;\n",
       "    }\n",
       "</style>\n",
       "<table border=\"1\" class=\"dataframe\">\n",
       "  <thead>\n",
       "    <tr style=\"text-align: right;\">\n",
       "      <th></th>\n",
       "      <th>id</th>\n",
       "      <th>fecha_nacimiento</th>\n",
       "      <th>fecha_alta</th>\n",
       "      <th>id_municipio</th>\n",
       "      <th>id_estado</th>\n",
       "      <th>tipo_persona</th>\n",
       "      <th>genero</th>\n",
       "      <th>actividad_empresarial</th>\n",
       "    </tr>\n",
       "  </thead>\n",
       "  <tbody>\n",
       "    <tr>\n",
       "      <th>0</th>\n",
       "      <td>93512ea145c3d81ba7a7ff641faf992fd307072e</td>\n",
       "      <td>1986-12-21</td>\n",
       "      <td>2018-02-11</td>\n",
       "      <td>6822014</td>\n",
       "      <td>68</td>\n",
       "      <td>Persona Fisica Con Actividad Empresarial</td>\n",
       "      <td>F</td>\n",
       "      <td>COMPRAVENTA DE ARTICULOS DE FERRETERIA</td>\n",
       "    </tr>\n",
       "    <tr>\n",
       "      <th>1</th>\n",
       "      <td>acb2fee5aea2d73a88359d438aaedeea731554f8</td>\n",
       "      <td>1991-02-01</td>\n",
       "      <td>2019-05-12</td>\n",
       "      <td>6115121</td>\n",
       "      <td>61</td>\n",
       "      <td>Persona Fisica Con Actividad Empresarial</td>\n",
       "      <td>M</td>\n",
       "      <td>AGENCIA DE PUBLICIDAD</td>\n",
       "    </tr>\n",
       "    <tr>\n",
       "      <th>2</th>\n",
       "      <td>b627227d2f20116510bcb12de34e6a188cf8d054</td>\n",
       "      <td>1994-05-23</td>\n",
       "      <td>2017-07-19</td>\n",
       "      <td>6923005</td>\n",
       "      <td>69</td>\n",
       "      <td>Persona Fisica Sin Actividad Empresarial</td>\n",
       "      <td>F</td>\n",
       "      <td>COMPRA VENTA DE ARTICULOS NO CLASIFICADOS EN O...</td>\n",
       "    </tr>\n",
       "    <tr>\n",
       "      <th>3</th>\n",
       "      <td>054be5f40d50b28d2b82af57159343989dd28012</td>\n",
       "      <td>1990-10-03</td>\n",
       "      <td>2017-05-21</td>\n",
       "      <td>6014120</td>\n",
       "      <td>60</td>\n",
       "      <td>Persona Fisica Sin Actividad Empresarial</td>\n",
       "      <td>M</td>\n",
       "      <td>EMPLEADO DEL SECTOR SERVICIOS</td>\n",
       "    </tr>\n",
       "    <tr>\n",
       "      <th>4</th>\n",
       "      <td>e7a86bf5f62bcac9ca4c7003175e5366d759b284</td>\n",
       "      <td>1962-05-19</td>\n",
       "      <td>2017-05-16</td>\n",
       "      <td>5408019</td>\n",
       "      <td>54</td>\n",
       "      <td>Persona Fisica Con Actividad Empresarial</td>\n",
       "      <td>F</td>\n",
       "      <td>EMPLEADO DEL SECTOR SERVICIOS</td>\n",
       "    </tr>\n",
       "  </tbody>\n",
       "</table>\n",
       "</div>"
      ],
      "text/plain": [
       "                                         id fecha_nacimiento  fecha_alta  \\\n",
       "0  93512ea145c3d81ba7a7ff641faf992fd307072e       1986-12-21  2018-02-11   \n",
       "1  acb2fee5aea2d73a88359d438aaedeea731554f8       1991-02-01  2019-05-12   \n",
       "2  b627227d2f20116510bcb12de34e6a188cf8d054       1994-05-23  2017-07-19   \n",
       "3  054be5f40d50b28d2b82af57159343989dd28012       1990-10-03  2017-05-21   \n",
       "4  e7a86bf5f62bcac9ca4c7003175e5366d759b284       1962-05-19  2017-05-16   \n",
       "\n",
       "   id_municipio  id_estado                              tipo_persona genero  \\\n",
       "0       6822014         68  Persona Fisica Con Actividad Empresarial      F   \n",
       "1       6115121         61  Persona Fisica Con Actividad Empresarial      M   \n",
       "2       6923005         69  Persona Fisica Sin Actividad Empresarial      F   \n",
       "3       6014120         60  Persona Fisica Sin Actividad Empresarial      M   \n",
       "4       5408019         54  Persona Fisica Con Actividad Empresarial      F   \n",
       "\n",
       "                               actividad_empresarial  \n",
       "0             COMPRAVENTA DE ARTICULOS DE FERRETERIA  \n",
       "1                              AGENCIA DE PUBLICIDAD  \n",
       "2  COMPRA VENTA DE ARTICULOS NO CLASIFICADOS EN O...  \n",
       "3                      EMPLEADO DEL SECTOR SERVICIOS  \n",
       "4                      EMPLEADO DEL SECTOR SERVICIOS  "
      ]
     },
     "execution_count": 3,
     "metadata": {},
     "output_type": "execute_result"
    }
   ],
   "source": [
    "clientes.head()"
   ]
  },
  {
   "cell_type": "code",
   "execution_count": 4,
   "id": "afca1e35",
   "metadata": {},
   "outputs": [
    {
     "data": {
      "application/vnd.microsoft.datawrangler.viewer.v0+json": {
       "columns": [
        {
         "name": "index",
         "rawType": "int64",
         "type": "integer"
        },
        {
         "name": "id",
         "rawType": "object",
         "type": "string"
        },
        {
         "name": "fecha",
         "rawType": "object",
         "type": "string"
        },
        {
         "name": "comercio",
         "rawType": "object",
         "type": "string"
        },
        {
         "name": "giro_comercio",
         "rawType": "object",
         "type": "string"
        },
        {
         "name": "tipo_venta",
         "rawType": "object",
         "type": "string"
        },
        {
         "name": "monto",
         "rawType": "float64",
         "type": "float"
        }
       ],
       "ref": "492146df-9d36-45ff-a433-8bf8013221a3",
       "rows": [
        [
         "0",
         "91477f382c3cf63ab5cd9263b502109243741158",
         "2022-01-02",
         "AMAZON",
         "COMERCIOS ELECTRONICOS (VTAS POR INTERNET)",
         "digital",
         "5.99"
        ],
        [
         "1",
         "91477f382c3cf63ab5cd9263b502109243741158",
         "2022-01-05",
         "RAPPI",
         "SERVICIOS EMPRESARIALES - NO CLASIFICADOS",
         "digital",
         "13.01"
        ],
        [
         "2",
         "91477f382c3cf63ab5cd9263b502109243741158",
         "2022-01-05",
         "RAPPI",
         "SERVICIOS EMPRESARIALES - NO CLASIFICADOS",
         "digital",
         "15.84"
        ],
        [
         "3",
         "91477f382c3cf63ab5cd9263b502109243741158",
         "2022-01-05",
         "AMAZON",
         "COMERCIOS ELECTRONICOS (VTAS POR INTERNET)",
         "digital",
         "8.17"
        ],
        [
         "4",
         "91477f382c3cf63ab5cd9263b502109243741158",
         "2022-01-05",
         "AMAZON",
         "COMERCIOS ELECTRONICOS (VTAS POR INTERNET)",
         "digital",
         "2.54"
        ]
       ],
       "shape": {
        "columns": 6,
        "rows": 5
       }
      },
      "text/html": [
       "<div>\n",
       "<style scoped>\n",
       "    .dataframe tbody tr th:only-of-type {\n",
       "        vertical-align: middle;\n",
       "    }\n",
       "\n",
       "    .dataframe tbody tr th {\n",
       "        vertical-align: top;\n",
       "    }\n",
       "\n",
       "    .dataframe thead th {\n",
       "        text-align: right;\n",
       "    }\n",
       "</style>\n",
       "<table border=\"1\" class=\"dataframe\">\n",
       "  <thead>\n",
       "    <tr style=\"text-align: right;\">\n",
       "      <th></th>\n",
       "      <th>id</th>\n",
       "      <th>fecha</th>\n",
       "      <th>comercio</th>\n",
       "      <th>giro_comercio</th>\n",
       "      <th>tipo_venta</th>\n",
       "      <th>monto</th>\n",
       "    </tr>\n",
       "  </thead>\n",
       "  <tbody>\n",
       "    <tr>\n",
       "      <th>0</th>\n",
       "      <td>91477f382c3cf63ab5cd9263b502109243741158</td>\n",
       "      <td>2022-01-02</td>\n",
       "      <td>AMAZON</td>\n",
       "      <td>COMERCIOS ELECTRONICOS (VTAS POR INTERNET)</td>\n",
       "      <td>digital</td>\n",
       "      <td>5.99</td>\n",
       "    </tr>\n",
       "    <tr>\n",
       "      <th>1</th>\n",
       "      <td>91477f382c3cf63ab5cd9263b502109243741158</td>\n",
       "      <td>2022-01-05</td>\n",
       "      <td>RAPPI</td>\n",
       "      <td>SERVICIOS EMPRESARIALES - NO CLASIFICADOS</td>\n",
       "      <td>digital</td>\n",
       "      <td>13.01</td>\n",
       "    </tr>\n",
       "    <tr>\n",
       "      <th>2</th>\n",
       "      <td>91477f382c3cf63ab5cd9263b502109243741158</td>\n",
       "      <td>2022-01-05</td>\n",
       "      <td>RAPPI</td>\n",
       "      <td>SERVICIOS EMPRESARIALES - NO CLASIFICADOS</td>\n",
       "      <td>digital</td>\n",
       "      <td>15.84</td>\n",
       "    </tr>\n",
       "    <tr>\n",
       "      <th>3</th>\n",
       "      <td>91477f382c3cf63ab5cd9263b502109243741158</td>\n",
       "      <td>2022-01-05</td>\n",
       "      <td>AMAZON</td>\n",
       "      <td>COMERCIOS ELECTRONICOS (VTAS POR INTERNET)</td>\n",
       "      <td>digital</td>\n",
       "      <td>8.17</td>\n",
       "    </tr>\n",
       "    <tr>\n",
       "      <th>4</th>\n",
       "      <td>91477f382c3cf63ab5cd9263b502109243741158</td>\n",
       "      <td>2022-01-05</td>\n",
       "      <td>AMAZON</td>\n",
       "      <td>COMERCIOS ELECTRONICOS (VTAS POR INTERNET)</td>\n",
       "      <td>digital</td>\n",
       "      <td>2.54</td>\n",
       "    </tr>\n",
       "  </tbody>\n",
       "</table>\n",
       "</div>"
      ],
      "text/plain": [
       "                                         id       fecha comercio  \\\n",
       "0  91477f382c3cf63ab5cd9263b502109243741158  2022-01-02   AMAZON   \n",
       "1  91477f382c3cf63ab5cd9263b502109243741158  2022-01-05    RAPPI   \n",
       "2  91477f382c3cf63ab5cd9263b502109243741158  2022-01-05    RAPPI   \n",
       "3  91477f382c3cf63ab5cd9263b502109243741158  2022-01-05   AMAZON   \n",
       "4  91477f382c3cf63ab5cd9263b502109243741158  2022-01-05   AMAZON   \n",
       "\n",
       "                                giro_comercio tipo_venta  monto  \n",
       "0  COMERCIOS ELECTRONICOS (VTAS POR INTERNET)    digital   5.99  \n",
       "1   SERVICIOS EMPRESARIALES - NO CLASIFICADOS    digital  13.01  \n",
       "2   SERVICIOS EMPRESARIALES - NO CLASIFICADOS    digital  15.84  \n",
       "3  COMERCIOS ELECTRONICOS (VTAS POR INTERNET)    digital   8.17  \n",
       "4  COMERCIOS ELECTRONICOS (VTAS POR INTERNET)    digital   2.54  "
      ]
     },
     "execution_count": 4,
     "metadata": {},
     "output_type": "execute_result"
    }
   ],
   "source": [
    "transacciones.head()"
   ]
  },
  {
   "cell_type": "code",
   "execution_count": 5,
   "id": "c5ea392c",
   "metadata": {},
   "outputs": [
    {
     "data": {
      "application/vnd.microsoft.datawrangler.viewer.v0+json": {
       "columns": [
        {
         "name": "index",
         "rawType": "object",
         "type": "string"
        },
        {
         "name": "0",
         "rawType": "int64",
         "type": "integer"
        }
       ],
       "ref": "13b2f944-5929-4755-b839-5553f58e8412",
       "rows": [
        [
         "id",
         "0"
        ],
        [
         "fecha_nacimiento",
         "0"
        ],
        [
         "fecha_alta",
         "0"
        ],
        [
         "id_municipio",
         "0"
        ],
        [
         "id_estado",
         "0"
        ],
        [
         "tipo_persona",
         "0"
        ],
        [
         "genero",
         "0"
        ],
        [
         "actividad_empresarial",
         "0"
        ]
       ],
       "shape": {
        "columns": 1,
        "rows": 8
       }
      },
      "text/plain": [
       "id                       0\n",
       "fecha_nacimiento         0\n",
       "fecha_alta               0\n",
       "id_municipio             0\n",
       "id_estado                0\n",
       "tipo_persona             0\n",
       "genero                   0\n",
       "actividad_empresarial    0\n",
       "dtype: int64"
      ]
     },
     "execution_count": 5,
     "metadata": {},
     "output_type": "execute_result"
    }
   ],
   "source": [
    "clientes.isna().sum()"
   ]
  },
  {
   "cell_type": "code",
   "execution_count": 6,
   "id": "f8da10e4",
   "metadata": {},
   "outputs": [
    {
     "data": {
      "application/vnd.microsoft.datawrangler.viewer.v0+json": {
       "columns": [
        {
         "name": "index",
         "rawType": "object",
         "type": "string"
        },
        {
         "name": "id_municipio",
         "rawType": "float64",
         "type": "float"
        },
        {
         "name": "id_estado",
         "rawType": "float64",
         "type": "float"
        }
       ],
       "ref": "1813f009-18f4-43df-8339-3fa6ea7c5bf0",
       "rows": [
        [
         "count",
         "994.0",
         "994.0"
        ],
        [
         "mean",
         "6180777.921529175",
         "61.65090543259557"
        ],
        [
         "std",
         "709320.6821684912",
         "7.0228991142471155"
        ],
        [
         "min",
         "4701001.0",
         "47.0"
        ],
        [
         "25%",
         "5509015.0",
         "55.0"
        ],
        [
         "50%",
         "6115109.0",
         "61.0"
        ],
        [
         "75%",
         "6519046.0",
         "65.0"
        ],
        [
         "max",
         "7832056.0",
         "78.0"
        ]
       ],
       "shape": {
        "columns": 2,
        "rows": 8
       }
      },
      "text/html": [
       "<div>\n",
       "<style scoped>\n",
       "    .dataframe tbody tr th:only-of-type {\n",
       "        vertical-align: middle;\n",
       "    }\n",
       "\n",
       "    .dataframe tbody tr th {\n",
       "        vertical-align: top;\n",
       "    }\n",
       "\n",
       "    .dataframe thead th {\n",
       "        text-align: right;\n",
       "    }\n",
       "</style>\n",
       "<table border=\"1\" class=\"dataframe\">\n",
       "  <thead>\n",
       "    <tr style=\"text-align: right;\">\n",
       "      <th></th>\n",
       "      <th>id_municipio</th>\n",
       "      <th>id_estado</th>\n",
       "    </tr>\n",
       "  </thead>\n",
       "  <tbody>\n",
       "    <tr>\n",
       "      <th>count</th>\n",
       "      <td>9.940000e+02</td>\n",
       "      <td>994.000000</td>\n",
       "    </tr>\n",
       "    <tr>\n",
       "      <th>mean</th>\n",
       "      <td>6.180778e+06</td>\n",
       "      <td>61.650905</td>\n",
       "    </tr>\n",
       "    <tr>\n",
       "      <th>std</th>\n",
       "      <td>7.093207e+05</td>\n",
       "      <td>7.022899</td>\n",
       "    </tr>\n",
       "    <tr>\n",
       "      <th>min</th>\n",
       "      <td>4.701001e+06</td>\n",
       "      <td>47.000000</td>\n",
       "    </tr>\n",
       "    <tr>\n",
       "      <th>25%</th>\n",
       "      <td>5.509015e+06</td>\n",
       "      <td>55.000000</td>\n",
       "    </tr>\n",
       "    <tr>\n",
       "      <th>50%</th>\n",
       "      <td>6.115109e+06</td>\n",
       "      <td>61.000000</td>\n",
       "    </tr>\n",
       "    <tr>\n",
       "      <th>75%</th>\n",
       "      <td>6.519046e+06</td>\n",
       "      <td>65.000000</td>\n",
       "    </tr>\n",
       "    <tr>\n",
       "      <th>max</th>\n",
       "      <td>7.832056e+06</td>\n",
       "      <td>78.000000</td>\n",
       "    </tr>\n",
       "  </tbody>\n",
       "</table>\n",
       "</div>"
      ],
      "text/plain": [
       "       id_municipio   id_estado\n",
       "count  9.940000e+02  994.000000\n",
       "mean   6.180778e+06   61.650905\n",
       "std    7.093207e+05    7.022899\n",
       "min    4.701001e+06   47.000000\n",
       "25%    5.509015e+06   55.000000\n",
       "50%    6.115109e+06   61.000000\n",
       "75%    6.519046e+06   65.000000\n",
       "max    7.832056e+06   78.000000"
      ]
     },
     "execution_count": 6,
     "metadata": {},
     "output_type": "execute_result"
    }
   ],
   "source": [
    "clientes.describe()"
   ]
  },
  {
   "cell_type": "code",
   "execution_count": 7,
   "id": "723ad2e8",
   "metadata": {},
   "outputs": [
    {
     "data": {
      "application/vnd.microsoft.datawrangler.viewer.v0+json": {
       "columns": [
        {
         "name": "index",
         "rawType": "object",
         "type": "string"
        },
        {
         "name": "0",
         "rawType": "int64",
         "type": "integer"
        }
       ],
       "ref": "d17bf998-63a8-4fa8-b9b8-aac8c67d48ed",
       "rows": [
        [
         "id",
         "0"
        ],
        [
         "fecha",
         "0"
        ],
        [
         "comercio",
         "0"
        ],
        [
         "giro_comercio",
         "0"
        ],
        [
         "tipo_venta",
         "0"
        ],
        [
         "monto",
         "0"
        ]
       ],
       "shape": {
        "columns": 1,
        "rows": 6
       }
      },
      "text/plain": [
       "id               0\n",
       "fecha            0\n",
       "comercio         0\n",
       "giro_comercio    0\n",
       "tipo_venta       0\n",
       "monto            0\n",
       "dtype: int64"
      ]
     },
     "execution_count": 7,
     "metadata": {},
     "output_type": "execute_result"
    }
   ],
   "source": [
    "transacciones.isna().sum()"
   ]
  },
  {
   "cell_type": "code",
   "execution_count": 9,
   "id": "26097469",
   "metadata": {},
   "outputs": [
    {
     "data": {
      "application/vnd.microsoft.datawrangler.viewer.v0+json": {
       "columns": [
        {
         "name": "comercio",
         "rawType": "object",
         "type": "string"
        },
        {
         "name": "count",
         "rawType": "int64",
         "type": "integer"
        }
       ],
       "ref": "72ee890b-e33a-482b-b48a-515849a223cd",
       "rows": [
        [
         "UBER",
         "40155"
        ],
        [
         "AMAZON",
         "38321"
        ],
        [
         "OXXO",
         "29279"
        ],
        [
         "UBER EATS",
         "15156"
        ],
        [
         "MERCADO PAGO",
         "15033"
        ],
        [
         "7 ELEVEN",
         "12531"
        ],
        [
         "RAPPI",
         "12011"
        ],
        [
         "DIDI RIDES",
         "11193"
        ],
        [
         "TELCEL",
         "9968"
        ],
        [
         "FARMACIAS GUADALAJARA",
         "6853"
        ],
        [
         "DIDI FOOD",
         "6404"
        ],
        [
         "DIDI",
         "6330"
        ],
        [
         "NETFLIX",
         "6260"
        ],
        [
         "SPOTIFY",
         "6153"
        ],
        [
         "SORIANA",
         "5712"
        ],
        [
         "AMAZON PRIME",
         "5461"
        ],
        [
         "HEB",
         "5049"
        ],
        [
         "STARBUCKS",
         "4866"
        ],
        [
         "CALIENTE",
         "4765"
        ],
        [
         "WALMART",
         "4537"
        ],
        [
         "CINEPOLIS",
         "4058"
        ],
        [
         "MICROSOFT",
         "3597"
        ],
        [
         "CFE",
         "3461"
        ],
        [
         "ITUNES",
         "3428"
        ],
        [
         "UBRPAGOSMEX",
         "3327"
        ],
        [
         "TULOTERO",
         "3223"
        ],
        [
         "BET365",
         "3165"
        ],
        [
         "MELIMAS",
         "3104"
        ],
        [
         "TOTALPLAY",
         "2794"
        ],
        [
         "COSTCO",
         "2755"
        ],
        [
         "FACEBOOK",
         "2654"
        ],
        [
         "GOOGLE",
         "2592"
        ],
        [
         "SAMS CLUB",
         "2363"
        ],
        [
         "LIVERPOOL",
         "2349"
        ],
        [
         "OXXO GAS",
         "2347"
        ],
        [
         "CHEDRAUI",
         "2190"
        ],
        [
         "TELMEX",
         "2100"
        ],
        [
         "FARMACIAS DEL AHORRO",
         "1982"
        ],
        [
         "NAYAX",
         "1980"
        ],
        [
         "SUPERCENTER",
         "1927"
        ],
        [
         "FARMACIAS SIMILARES",
         "1724"
        ],
        [
         "MI ATT",
         "1700"
        ],
        [
         "GOOGLE YOUTUBE",
         "1634"
        ],
        [
         "UNDOSTRES",
         "1575"
        ],
        [
         "GOOGLE ONE",
         "1501"
        ],
        [
         "URBANI",
         "1495"
        ],
        [
         "IZZI",
         "1423"
        ],
        [
         "APLAZO",
         "1419"
        ],
        [
         "PARCO",
         "1410"
        ],
        [
         "TEMU",
         "1254"
        ]
       ],
       "shape": {
        "columns": 1,
        "rows": 89
       }
      },
      "text/plain": [
       "comercio\n",
       "UBER                    40155\n",
       "AMAZON                  38321\n",
       "OXXO                    29279\n",
       "UBER EATS               15156\n",
       "MERCADO PAGO            15033\n",
       "                        ...  \n",
       "ATT                       205\n",
       "GOOGLE AMAZON MOBILE      161\n",
       "ROKU                      136\n",
       "APPLE                      79\n",
       "METROBUS                   44\n",
       "Name: count, Length: 89, dtype: int64"
      ]
     },
     "execution_count": 9,
     "metadata": {},
     "output_type": "execute_result"
    }
   ],
   "source": [
    "transacciones[\"comercio\"].value_counts()"
   ]
  },
  {
   "cell_type": "code",
   "execution_count": null,
   "id": "f5cfa2d4",
   "metadata": {},
   "outputs": [
    {
     "data": {
      "text/html": [
       "<div>\n",
       "<style scoped>\n",
       "    .dataframe tbody tr th:only-of-type {\n",
       "        vertical-align: middle;\n",
       "    }\n",
       "\n",
       "    .dataframe tbody tr th {\n",
       "        vertical-align: top;\n",
       "    }\n",
       "\n",
       "    .dataframe thead th {\n",
       "        text-align: right;\n",
       "    }\n",
       "</style>\n",
       "<table border=\"1\" class=\"dataframe\">\n",
       "  <thead>\n",
       "    <tr style=\"text-align: right;\">\n",
       "      <th></th>\n",
       "      <th>id</th>\n",
       "      <th>fecha_nacimiento</th>\n",
       "      <th>fecha_alta</th>\n",
       "      <th>id_municipio</th>\n",
       "      <th>id_estado</th>\n",
       "      <th>tipo_persona</th>\n",
       "      <th>genero</th>\n",
       "      <th>actividad_empresarial</th>\n",
       "      <th>fecha</th>\n",
       "      <th>comercio</th>\n",
       "      <th>giro_comercio</th>\n",
       "      <th>tipo_venta</th>\n",
       "      <th>monto</th>\n",
       "    </tr>\n",
       "  </thead>\n",
       "  <tbody>\n",
       "  </tbody>\n",
       "</table>\n",
       "</div>"
      ],
      "text/plain": [
       "Empty DataFrame\n",
       "Columns: [id, fecha_nacimiento, fecha_alta, id_municipio, id_estado, tipo_persona, genero, actividad_empresarial, fecha, comercio, giro_comercio, tipo_venta, monto]\n",
       "Index: []"
      ]
     },
     "execution_count": 15,
     "metadata": {},
     "output_type": "execute_result"
    }
   ],
   "source": [
    "merged_data[merged_data[\"genero\"] == \"\"]"
   ]
  },
  {
   "cell_type": "code",
   "execution_count": null,
   "id": "be58c7f3",
   "metadata": {},
   "outputs": [
    {
     "data": {
      "text/plain": [
       "346011"
      ]
     },
     "execution_count": 17,
     "metadata": {},
     "output_type": "execute_result"
    }
   ],
   "source": [
    "len(transacciones)\n"
   ]
  },
  {
   "cell_type": "code",
   "execution_count": null,
   "id": "fe635f59",
   "metadata": {},
   "outputs": [
    {
     "data": {
      "text/plain": [
       "346011"
      ]
     },
     "execution_count": 18,
     "metadata": {},
     "output_type": "execute_result"
    }
   ],
   "source": [
    "len(merged_data)"
   ]
  }
 ],
 "metadata": {
  "kernelspec": {
   "display_name": ".venv",
   "language": "python",
   "name": "python3"
  },
  "language_info": {
   "codemirror_mode": {
    "name": "ipython",
    "version": 3
   },
   "file_extension": ".py",
   "mimetype": "text/x-python",
   "name": "python",
   "nbconvert_exporter": "python",
   "pygments_lexer": "ipython3",
   "version": "3.10.6"
  }
 },
 "nbformat": 4,
 "nbformat_minor": 5
}
