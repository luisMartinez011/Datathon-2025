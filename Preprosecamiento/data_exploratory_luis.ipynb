{
 "cells": [
  {
   "cell_type": "code",
   "execution_count": null,
   "id": "e6c85d4c",
   "metadata": {},
   "outputs": [],
   "source": [
    "import pandas as pd\n",
    "\n",
    "\n",
    "# Read the CSV file\n",
    "clientes = pd.read_csv('../Datasets/base_clientes_final.csv')\n",
    "transacciones = pd.read_csv('../Datasets/base_transacciones_final.csv')\n",
    "# Check if all values in the 'id' column are unique"
   ]
  },
  {
   "cell_type": "code",
   "execution_count": null,
   "id": "74d70dc5",
   "metadata": {},
   "outputs": [
    {
     "data": {
      "text/html": [
       "<div>\n",
       "<style scoped>\n",
       "    .dataframe tbody tr th:only-of-type {\n",
       "        vertical-align: middle;\n",
       "    }\n",
       "\n",
       "    .dataframe tbody tr th {\n",
       "        vertical-align: top;\n",
       "    }\n",
       "\n",
       "    .dataframe thead th {\n",
       "        text-align: right;\n",
       "    }\n",
       "</style>\n",
       "<table border=\"1\" class=\"dataframe\">\n",
       "  <thead>\n",
       "    <tr style=\"text-align: right;\">\n",
       "      <th></th>\n",
       "      <th>id</th>\n",
       "      <th>fecha_nacimiento</th>\n",
       "      <th>fecha_alta</th>\n",
       "      <th>id_municipio</th>\n",
       "      <th>id_estado</th>\n",
       "      <th>tipo_persona</th>\n",
       "      <th>genero</th>\n",
       "      <th>actividad_empresarial</th>\n",
       "    </tr>\n",
       "  </thead>\n",
       "  <tbody>\n",
       "    <tr>\n",
       "      <th>0</th>\n",
       "      <td>9980f12e32711330d5f58460e169e6207afda041</td>\n",
       "      <td>1984-06-19</td>\n",
       "      <td>2015-10-25</td>\n",
       "      <td>6822006</td>\n",
       "      <td>68</td>\n",
       "      <td>Persona Fisica Sin Actividad Empresarial</td>\n",
       "      <td></td>\n",
       "      <td>EMPLEADO DEL SECTOR SERVICIOS</td>\n",
       "    </tr>\n",
       "    <tr>\n",
       "      <th>1</th>\n",
       "      <td>93512ea145c3d81ba7a7ff641faf992fd307072e</td>\n",
       "      <td>1986-12-21</td>\n",
       "      <td>2018-02-11</td>\n",
       "      <td>6822014</td>\n",
       "      <td>68</td>\n",
       "      <td>Persona Fisica Con Actividad Empresarial</td>\n",
       "      <td>F</td>\n",
       "      <td>COMPRAVENTA DE ARTICULOS DE FERRETERIA</td>\n",
       "    </tr>\n",
       "    <tr>\n",
       "      <th>2</th>\n",
       "      <td>acb2fee5aea2d73a88359d438aaedeea731554f8</td>\n",
       "      <td>1991-02-01</td>\n",
       "      <td>2019-05-12</td>\n",
       "      <td>6115121</td>\n",
       "      <td>61</td>\n",
       "      <td>Persona Fisica Con Actividad Empresarial</td>\n",
       "      <td>M</td>\n",
       "      <td>AGENCIA DE PUBLICIDAD</td>\n",
       "    </tr>\n",
       "    <tr>\n",
       "      <th>3</th>\n",
       "      <td>b627227d2f20116510bcb12de34e6a188cf8d054</td>\n",
       "      <td>1994-05-23</td>\n",
       "      <td>2017-07-19</td>\n",
       "      <td>6923005</td>\n",
       "      <td>69</td>\n",
       "      <td>Persona Fisica Sin Actividad Empresarial</td>\n",
       "      <td>F</td>\n",
       "      <td>COMPRA VENTA DE ARTICULOS NO CLASIFICADOS EN O...</td>\n",
       "    </tr>\n",
       "    <tr>\n",
       "      <th>4</th>\n",
       "      <td>054be5f40d50b28d2b82af57159343989dd28012</td>\n",
       "      <td>1990-10-03</td>\n",
       "      <td>2017-05-21</td>\n",
       "      <td>6014120</td>\n",
       "      <td>60</td>\n",
       "      <td>Persona Fisica Sin Actividad Empresarial</td>\n",
       "      <td>M</td>\n",
       "      <td>EMPLEADO DEL SECTOR SERVICIOS</td>\n",
       "    </tr>\n",
       "  </tbody>\n",
       "</table>\n",
       "</div>"
      ],
      "text/plain": [
       "                                         id fecha_nacimiento  fecha_alta  \\\n",
       "0  9980f12e32711330d5f58460e169e6207afda041       1984-06-19  2015-10-25   \n",
       "1  93512ea145c3d81ba7a7ff641faf992fd307072e       1986-12-21  2018-02-11   \n",
       "2  acb2fee5aea2d73a88359d438aaedeea731554f8       1991-02-01  2019-05-12   \n",
       "3  b627227d2f20116510bcb12de34e6a188cf8d054       1994-05-23  2017-07-19   \n",
       "4  054be5f40d50b28d2b82af57159343989dd28012       1990-10-03  2017-05-21   \n",
       "\n",
       "   id_municipio  id_estado                              tipo_persona genero  \\\n",
       "0       6822006         68  Persona Fisica Sin Actividad Empresarial          \n",
       "1       6822014         68  Persona Fisica Con Actividad Empresarial      F   \n",
       "2       6115121         61  Persona Fisica Con Actividad Empresarial      M   \n",
       "3       6923005         69  Persona Fisica Sin Actividad Empresarial      F   \n",
       "4       6014120         60  Persona Fisica Sin Actividad Empresarial      M   \n",
       "\n",
       "                               actividad_empresarial  \n",
       "0                      EMPLEADO DEL SECTOR SERVICIOS  \n",
       "1             COMPRAVENTA DE ARTICULOS DE FERRETERIA  \n",
       "2                              AGENCIA DE PUBLICIDAD  \n",
       "3  COMPRA VENTA DE ARTICULOS NO CLASIFICADOS EN O...  \n",
       "4                      EMPLEADO DEL SECTOR SERVICIOS  "
      ]
     },
     "execution_count": 2,
     "metadata": {},
     "output_type": "execute_result"
    }
   ],
   "source": [
    "clientes.head()"
   ]
  },
  {
   "cell_type": "code",
   "execution_count": 3,
   "id": "afca1e35",
   "metadata": {},
   "outputs": [
    {
     "data": {
      "text/html": [
       "<div>\n",
       "<style scoped>\n",
       "    .dataframe tbody tr th:only-of-type {\n",
       "        vertical-align: middle;\n",
       "    }\n",
       "\n",
       "    .dataframe tbody tr th {\n",
       "        vertical-align: top;\n",
       "    }\n",
       "\n",
       "    .dataframe thead th {\n",
       "        text-align: right;\n",
       "    }\n",
       "</style>\n",
       "<table border=\"1\" class=\"dataframe\">\n",
       "  <thead>\n",
       "    <tr style=\"text-align: right;\">\n",
       "      <th></th>\n",
       "      <th>id</th>\n",
       "      <th>fecha</th>\n",
       "      <th>comercio</th>\n",
       "      <th>giro_comercio</th>\n",
       "      <th>tipo_venta</th>\n",
       "      <th>monto</th>\n",
       "    </tr>\n",
       "  </thead>\n",
       "  <tbody>\n",
       "    <tr>\n",
       "      <th>0</th>\n",
       "      <td>91477f382c3cf63ab5cd9263b502109243741158</td>\n",
       "      <td>2022-01-02</td>\n",
       "      <td>AMAZON</td>\n",
       "      <td>COMERCIOS ELECTRONICOS (VTAS POR INTERNET)</td>\n",
       "      <td>digital</td>\n",
       "      <td>5.99</td>\n",
       "    </tr>\n",
       "    <tr>\n",
       "      <th>1</th>\n",
       "      <td>91477f382c3cf63ab5cd9263b502109243741158</td>\n",
       "      <td>2022-01-05</td>\n",
       "      <td>RAPPI</td>\n",
       "      <td>SERVICIOS EMPRESARIALES - NO CLASIFICADOS</td>\n",
       "      <td>digital</td>\n",
       "      <td>13.01</td>\n",
       "    </tr>\n",
       "    <tr>\n",
       "      <th>2</th>\n",
       "      <td>91477f382c3cf63ab5cd9263b502109243741158</td>\n",
       "      <td>2022-01-05</td>\n",
       "      <td>RAPPI</td>\n",
       "      <td>SERVICIOS EMPRESARIALES - NO CLASIFICADOS</td>\n",
       "      <td>digital</td>\n",
       "      <td>15.84</td>\n",
       "    </tr>\n",
       "    <tr>\n",
       "      <th>3</th>\n",
       "      <td>91477f382c3cf63ab5cd9263b502109243741158</td>\n",
       "      <td>2022-01-05</td>\n",
       "      <td>AMAZON</td>\n",
       "      <td>COMERCIOS ELECTRONICOS (VTAS POR INTERNET)</td>\n",
       "      <td>digital</td>\n",
       "      <td>8.17</td>\n",
       "    </tr>\n",
       "    <tr>\n",
       "      <th>4</th>\n",
       "      <td>91477f382c3cf63ab5cd9263b502109243741158</td>\n",
       "      <td>2022-01-05</td>\n",
       "      <td>AMAZON</td>\n",
       "      <td>COMERCIOS ELECTRONICOS (VTAS POR INTERNET)</td>\n",
       "      <td>digital</td>\n",
       "      <td>2.54</td>\n",
       "    </tr>\n",
       "  </tbody>\n",
       "</table>\n",
       "</div>"
      ],
      "text/plain": [
       "                                         id       fecha comercio  \\\n",
       "0  91477f382c3cf63ab5cd9263b502109243741158  2022-01-02   AMAZON   \n",
       "1  91477f382c3cf63ab5cd9263b502109243741158  2022-01-05    RAPPI   \n",
       "2  91477f382c3cf63ab5cd9263b502109243741158  2022-01-05    RAPPI   \n",
       "3  91477f382c3cf63ab5cd9263b502109243741158  2022-01-05   AMAZON   \n",
       "4  91477f382c3cf63ab5cd9263b502109243741158  2022-01-05   AMAZON   \n",
       "\n",
       "                                giro_comercio tipo_venta  monto  \n",
       "0  COMERCIOS ELECTRONICOS (VTAS POR INTERNET)    digital   5.99  \n",
       "1   SERVICIOS EMPRESARIALES - NO CLASIFICADOS    digital  13.01  \n",
       "2   SERVICIOS EMPRESARIALES - NO CLASIFICADOS    digital  15.84  \n",
       "3  COMERCIOS ELECTRONICOS (VTAS POR INTERNET)    digital   8.17  \n",
       "4  COMERCIOS ELECTRONICOS (VTAS POR INTERNET)    digital   2.54  "
      ]
     },
     "execution_count": 3,
     "metadata": {},
     "output_type": "execute_result"
    }
   ],
   "source": [
    "transacciones.head()"
   ]
  },
  {
   "cell_type": "code",
   "execution_count": 6,
   "id": "c5ea392c",
   "metadata": {},
   "outputs": [
    {
     "data": {
      "text/plain": [
       "id                       0\n",
       "fecha_nacimiento         0\n",
       "fecha_alta               0\n",
       "id_municipio             0\n",
       "id_estado                0\n",
       "tipo_persona             0\n",
       "genero                   0\n",
       "actividad_empresarial    0\n",
       "dtype: int64"
      ]
     },
     "execution_count": 6,
     "metadata": {},
     "output_type": "execute_result"
    }
   ],
   "source": [
    "clientes.isna().sum()"
   ]
  },
  {
   "cell_type": "code",
   "execution_count": 7,
   "id": "f8da10e4",
   "metadata": {},
   "outputs": [
    {
     "data": {
      "text/html": [
       "<div>\n",
       "<style scoped>\n",
       "    .dataframe tbody tr th:only-of-type {\n",
       "        vertical-align: middle;\n",
       "    }\n",
       "\n",
       "    .dataframe tbody tr th {\n",
       "        vertical-align: top;\n",
       "    }\n",
       "\n",
       "    .dataframe thead th {\n",
       "        text-align: right;\n",
       "    }\n",
       "</style>\n",
       "<table border=\"1\" class=\"dataframe\">\n",
       "  <thead>\n",
       "    <tr style=\"text-align: right;\">\n",
       "      <th></th>\n",
       "      <th>id_municipio</th>\n",
       "      <th>id_estado</th>\n",
       "    </tr>\n",
       "  </thead>\n",
       "  <tbody>\n",
       "    <tr>\n",
       "      <th>count</th>\n",
       "      <td>1.000000e+03</td>\n",
       "      <td>1000.00000</td>\n",
       "    </tr>\n",
       "    <tr>\n",
       "      <th>mean</th>\n",
       "      <td>6.180282e+06</td>\n",
       "      <td>61.64600</td>\n",
       "    </tr>\n",
       "    <tr>\n",
       "      <th>std</th>\n",
       "      <td>7.094854e+05</td>\n",
       "      <td>7.02453</td>\n",
       "    </tr>\n",
       "    <tr>\n",
       "      <th>min</th>\n",
       "      <td>4.701001e+06</td>\n",
       "      <td>47.00000</td>\n",
       "    </tr>\n",
       "    <tr>\n",
       "      <th>25%</th>\n",
       "      <td>5.509015e+06</td>\n",
       "      <td>55.00000</td>\n",
       "    </tr>\n",
       "    <tr>\n",
       "      <th>50%</th>\n",
       "      <td>6.115109e+06</td>\n",
       "      <td>61.00000</td>\n",
       "    </tr>\n",
       "    <tr>\n",
       "      <th>75%</th>\n",
       "      <td>6.519046e+06</td>\n",
       "      <td>65.00000</td>\n",
       "    </tr>\n",
       "    <tr>\n",
       "      <th>max</th>\n",
       "      <td>7.832056e+06</td>\n",
       "      <td>78.00000</td>\n",
       "    </tr>\n",
       "  </tbody>\n",
       "</table>\n",
       "</div>"
      ],
      "text/plain": [
       "       id_municipio   id_estado\n",
       "count  1.000000e+03  1000.00000\n",
       "mean   6.180282e+06    61.64600\n",
       "std    7.094854e+05     7.02453\n",
       "min    4.701001e+06    47.00000\n",
       "25%    5.509015e+06    55.00000\n",
       "50%    6.115109e+06    61.00000\n",
       "75%    6.519046e+06    65.00000\n",
       "max    7.832056e+06    78.00000"
      ]
     },
     "execution_count": 7,
     "metadata": {},
     "output_type": "execute_result"
    }
   ],
   "source": [
    "clientes.describe()"
   ]
  },
  {
   "cell_type": "code",
   "execution_count": 5,
   "id": "723ad2e8",
   "metadata": {},
   "outputs": [
    {
     "data": {
      "text/plain": [
       "id                  0\n",
       "fecha               0\n",
       "comercio            0\n",
       "giro_comercio    5588\n",
       "tipo_venta          0\n",
       "monto               0\n",
       "dtype: int64"
      ]
     },
     "execution_count": 5,
     "metadata": {},
     "output_type": "execute_result"
    }
   ],
   "source": [
    "transacciones.isna().sum()"
   ]
  },
  {
   "cell_type": "code",
   "execution_count": 9,
   "id": "446efe87",
   "metadata": {},
   "outputs": [],
   "source": [
    "merged_data = pd.read_csv('../Datasets/merged_dataset.csv')"
   ]
  },
  {
   "cell_type": "code",
   "execution_count": 13,
   "id": "26097469",
   "metadata": {},
   "outputs": [
    {
     "data": {
      "text/plain": [
       "genero\n",
       "M    241371\n",
       "F    104220\n",
       "        420\n",
       "Name: count, dtype: int64"
      ]
     },
     "execution_count": 13,
     "metadata": {},
     "output_type": "execute_result"
    }
   ],
   "source": [
    "merged_data[\"genero\"].value_counts()"
   ]
  },
  {
   "cell_type": "code",
   "execution_count": 15,
   "id": "f5cfa2d4",
   "metadata": {},
   "outputs": [
    {
     "data": {
      "text/html": [
       "<div>\n",
       "<style scoped>\n",
       "    .dataframe tbody tr th:only-of-type {\n",
       "        vertical-align: middle;\n",
       "    }\n",
       "\n",
       "    .dataframe tbody tr th {\n",
       "        vertical-align: top;\n",
       "    }\n",
       "\n",
       "    .dataframe thead th {\n",
       "        text-align: right;\n",
       "    }\n",
       "</style>\n",
       "<table border=\"1\" class=\"dataframe\">\n",
       "  <thead>\n",
       "    <tr style=\"text-align: right;\">\n",
       "      <th></th>\n",
       "      <th>id</th>\n",
       "      <th>fecha_nacimiento</th>\n",
       "      <th>fecha_alta</th>\n",
       "      <th>id_municipio</th>\n",
       "      <th>id_estado</th>\n",
       "      <th>tipo_persona</th>\n",
       "      <th>genero</th>\n",
       "      <th>actividad_empresarial</th>\n",
       "      <th>fecha</th>\n",
       "      <th>comercio</th>\n",
       "      <th>giro_comercio</th>\n",
       "      <th>tipo_venta</th>\n",
       "      <th>monto</th>\n",
       "    </tr>\n",
       "  </thead>\n",
       "  <tbody>\n",
       "  </tbody>\n",
       "</table>\n",
       "</div>"
      ],
      "text/plain": [
       "Empty DataFrame\n",
       "Columns: [id, fecha_nacimiento, fecha_alta, id_municipio, id_estado, tipo_persona, genero, actividad_empresarial, fecha, comercio, giro_comercio, tipo_venta, monto]\n",
       "Index: []"
      ]
     },
     "execution_count": 15,
     "metadata": {},
     "output_type": "execute_result"
    }
   ],
   "source": [
    "merged_data[merged_data[\"genero\"] == \"\"]"
   ]
  },
  {
   "cell_type": "code",
   "execution_count": 17,
   "id": "be58c7f3",
   "metadata": {},
   "outputs": [
    {
     "data": {
      "text/plain": [
       "346011"
      ]
     },
     "execution_count": 17,
     "metadata": {},
     "output_type": "execute_result"
    }
   ],
   "source": [
    "len(transacciones)\n"
   ]
  },
  {
   "cell_type": "code",
   "execution_count": 18,
   "id": "fe635f59",
   "metadata": {},
   "outputs": [
    {
     "data": {
      "text/plain": [
       "346011"
      ]
     },
     "execution_count": 18,
     "metadata": {},
     "output_type": "execute_result"
    }
   ],
   "source": [
    "len(merged_data)"
   ]
  }
 ],
 "metadata": {
  "kernelspec": {
   "display_name": ".venv",
   "language": "python",
   "name": "python3"
  },
  "language_info": {
   "codemirror_mode": {
    "name": "ipython",
    "version": 3
   },
   "file_extension": ".py",
   "mimetype": "text/x-python",
   "name": "python",
   "nbconvert_exporter": "python",
   "pygments_lexer": "ipython3",
   "version": "3.10.6"
  }
 },
 "nbformat": 4,
 "nbformat_minor": 5
}
